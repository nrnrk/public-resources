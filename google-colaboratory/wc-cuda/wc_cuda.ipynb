{
  "nbformat": 4,
  "nbformat_minor": 0,
  "metadata": {
    "colab": {
      "provenance": [],
      "gpuType": "T4",
      "authorship_tag": "ABX9TyOOI2pnR/BdbWcNVO+aw31i",
      "include_colab_link": true
    },
    "kernelspec": {
      "name": "python3",
      "display_name": "Python 3"
    },
    "language_info": {
      "name": "python"
    },
    "accelerator": "GPU"
  },
  "cells": [
    {
      "cell_type": "markdown",
      "metadata": {
        "id": "view-in-github",
        "colab_type": "text"
      },
      "source": [
        "<a href=\"https://colab.research.google.com/github/nrnrk/public-resources/blob/main/google-colaboratory/wc-cuda/wc_cuda.ipynb\" target=\"_parent\"><img src=\"https://colab.research.google.com/assets/colab-badge.svg\" alt=\"Open In Colab\"/></a>"
      ]
    },
    {
      "cell_type": "markdown",
      "source": [
        "## `wc` コマンドの CUDA 実装\n",
        "\n",
        "学習のために `wc` コマンドを CUDA で実装し直します。大きいファイルでは本家より早くなることをごく簡単な計測で確認できました。"
      ],
      "metadata": {
        "id": "xRESXd0o9Hqx"
      }
    },
    {
      "cell_type": "markdown",
      "source": [
        "### 準備\n",
        "\n",
        "* Colaboratory で `編集` > `ノートブックの設定` で CUDA 対応のアクセラレータ(T4など)を選択\n",
        "  * これにより関連のミドルウェアはインストールされます\n",
        "* `PyCUDA` のインストール\n"
      ],
      "metadata": {
        "id": "NSiTFPKO9e5l"
      }
    },
    {
      "cell_type": "code",
      "execution_count": 3,
      "metadata": {
        "colab": {
          "base_uri": "https://localhost:8080/"
        },
        "id": "rtZCy4So82FK",
        "outputId": "e2ed54a3-e311-4eea-c190-64a4c9c57afd"
      },
      "outputs": [
        {
          "output_type": "stream",
          "name": "stdout",
          "text": [
            "Collecting pycuda\n",
            "  Downloading pycuda-2025.1.tar.gz (1.7 MB)\n",
            "\u001b[?25l     \u001b[90m━━━━━━━━━━━━━━━━━━━━━━━━━━━━━━━━━━━━━━━━\u001b[0m \u001b[32m0.0/1.7 MB\u001b[0m \u001b[31m?\u001b[0m eta \u001b[36m-:--:--\u001b[0m\r\u001b[2K     \u001b[91m━━━━━━━━━━━━━━━━━━\u001b[0m\u001b[90m╺\u001b[0m\u001b[90m━━━━━━━━━━━━━━━━━━━━━\u001b[0m \u001b[32m0.8/1.7 MB\u001b[0m \u001b[31m23.5 MB/s\u001b[0m eta \u001b[36m0:00:01\u001b[0m\r\u001b[2K     \u001b[90m━━━━━━━━━━━━━━━━━━━━━━━━━━━━━━━━━━━━━━━━\u001b[0m \u001b[32m1.7/1.7 MB\u001b[0m \u001b[31m29.0 MB/s\u001b[0m eta \u001b[36m0:00:00\u001b[0m\n",
            "\u001b[?25h  Installing build dependencies ... \u001b[?25l\u001b[?25hdone\n",
            "  Getting requirements to build wheel ... \u001b[?25l\u001b[?25hdone\n",
            "  Preparing metadata (pyproject.toml) ... \u001b[?25l\u001b[?25hdone\n",
            "Collecting pytools>=2011.2 (from pycuda)\n",
            "  Downloading pytools-2025.1.1-py3-none-any.whl.metadata (3.0 kB)\n",
            "Requirement already satisfied: platformdirs>=2.2.0 in /usr/local/lib/python3.11/dist-packages (from pycuda) (4.3.6)\n",
            "Collecting mako (from pycuda)\n",
            "  Downloading Mako-1.3.9-py3-none-any.whl.metadata (2.9 kB)\n",
            "Requirement already satisfied: typing-extensions>=4.5 in /usr/local/lib/python3.11/dist-packages (from pytools>=2011.2->pycuda) (4.12.2)\n",
            "Requirement already satisfied: MarkupSafe>=0.9.2 in /usr/local/lib/python3.11/dist-packages (from mako->pycuda) (3.0.2)\n",
            "Downloading pytools-2025.1.1-py3-none-any.whl (92 kB)\n",
            "\u001b[2K   \u001b[90m━━━━━━━━━━━━━━━━━━━━━━━━━━━━━━━━━━━━━━━━\u001b[0m \u001b[32m92.8/92.8 kB\u001b[0m \u001b[31m9.1 MB/s\u001b[0m eta \u001b[36m0:00:00\u001b[0m\n",
            "\u001b[?25hDownloading Mako-1.3.9-py3-none-any.whl (78 kB)\n",
            "\u001b[2K   \u001b[90m━━━━━━━━━━━━━━━━━━━━━━━━━━━━━━━━━━━━━━━━\u001b[0m \u001b[32m78.5/78.5 kB\u001b[0m \u001b[31m7.3 MB/s\u001b[0m eta \u001b[36m0:00:00\u001b[0m\n",
            "\u001b[?25hBuilding wheels for collected packages: pycuda\n",
            "  Building wheel for pycuda (pyproject.toml) ... \u001b[?25l\u001b[?25hdone\n",
            "  Created wheel for pycuda: filename=pycuda-2025.1-cp311-cp311-linux_x86_64.whl size=660427 sha256=90f3c0a88905284576365bce8ff3fa55163420d6f1194e46e2c7d574b3d2c4a1\n",
            "  Stored in directory: /root/.cache/pip/wheels/77/7e/6c/d2d1451ea6424cdc3d67b36c16fa7111eafdf2034bc3405666\n",
            "Successfully built pycuda\n",
            "Installing collected packages: pytools, mako, pycuda\n",
            "Successfully installed mako-1.3.9 pycuda-2025.1 pytools-2025.1.1\n"
          ]
        }
      ],
      "source": [
        "# 2分くらいかかります\n",
        "!pip install pycuda"
      ]
    },
    {
      "cell_type": "markdown",
      "source": [
        "### .cubin の生成\n",
        "\n",
        "`wc.cu` に CUDA カーネルを定義しています。実行速度を上げるために `.cubin` を事前に生成しておきます。"
      ],
      "metadata": {
        "id": "6O-QGvWI-m5j"
      }
    },
    {
      "cell_type": "code",
      "source": [
        "# T4 は sm_75 のアーキテクチャ\n",
        "!nvcc -cubin -arch=sm_75 wc.cu -o wc.cubin"
      ],
      "metadata": {
        "id": "OGDoGZ5_NB2G"
      },
      "execution_count": 5,
      "outputs": []
    },
    {
      "cell_type": "markdown",
      "source": [
        "### wc.py を実行\n",
        "\n",
        "`wc.cubin` をロードして、 `wc` コマンド相当のものを実行するコード `wc.py` を実行します。"
      ],
      "metadata": {
        "id": "JOB8mXVBPpR1"
      }
    },
    {
      "cell_type": "code",
      "source": [
        "!python wc.py wc.py"
      ],
      "metadata": {
        "colab": {
          "base_uri": "https://localhost:8080/"
        },
        "id": "d1WFYmlDQRoQ",
        "outputId": "0d48268c-5623-468a-89d2-ac0aa2dd17a2"
      },
      "execution_count": 9,
      "outputs": [
        {
          "output_type": "stream",
          "name": "stdout",
          "text": [
            " 79 208 2410 wc.py\n"
          ]
        }
      ]
    },
    {
      "cell_type": "markdown",
      "source": [
        "### 時間の計測\n",
        "\n",
        "`time` コマンドで簡易的に速度を計測する。テスト用の短いテキストと、長いテキストも事前に生成して、 `wc` コマンドと比較します。"
      ],
      "metadata": {
        "id": "rwTxEbnsQVN0"
      }
    },
    {
      "cell_type": "code",
      "source": [
        "# 短めのデータを生成\n",
        "with open('short_text.txt', 'w') as f:\n",
        "  for _ in range(100):\n",
        "    f.write('short text!\\n' * 5)"
      ],
      "metadata": {
        "id": "GqK6esswQBtu"
      },
      "execution_count": 10,
      "outputs": []
    },
    {
      "cell_type": "code",
      "source": [
        "# とても長いデータを生成\n",
        "with open('long_text.txt', 'w') as f:\n",
        "  for _ in range(100000):\n",
        "    f.write('super long text!\\n' * 100)"
      ],
      "metadata": {
        "id": "H1NvmgTjPoz2"
      },
      "execution_count": 11,
      "outputs": []
    },
    {
      "cell_type": "code",
      "source": [
        "!time wc short_text.txt"
      ],
      "metadata": {
        "colab": {
          "base_uri": "https://localhost:8080/"
        },
        "id": "xCWgB-NXQP7C",
        "outputId": "c8a9f7f9-5dec-4e3e-b6f4-63f8fdbcbebd"
      },
      "execution_count": 12,
      "outputs": [
        {
          "output_type": "stream",
          "name": "stdout",
          "text": [
            " 500 1000 6000 short_text.txt\n",
            "\n",
            "real\t0m0.006s\n",
            "user\t0m0.000s\n",
            "sys\t0m0.001s\n"
          ]
        }
      ]
    },
    {
      "cell_type": "code",
      "source": [
        "!time python wc.py short_text.txt"
      ],
      "metadata": {
        "colab": {
          "base_uri": "https://localhost:8080/"
        },
        "id": "0_xwtae3QPIs",
        "outputId": "39bd1251-4e38-40c6-c00d-280985ca8ba7"
      },
      "execution_count": 13,
      "outputs": [
        {
          "output_type": "stream",
          "name": "stdout",
          "text": [
            " 500 1000 6000 short_text.txt\n",
            "\n",
            "real\t0m0.331s\n",
            "user\t0m0.236s\n",
            "sys\t0m0.203s\n"
          ]
        }
      ]
    },
    {
      "cell_type": "code",
      "source": [
        "!time wc long_text.txt"
      ],
      "metadata": {
        "colab": {
          "base_uri": "https://localhost:8080/"
        },
        "id": "FVrust0MQm-5",
        "outputId": "3b792599-ba1b-4b32-a37f-3bfd45fdc635"
      },
      "execution_count": 14,
      "outputs": [
        {
          "output_type": "stream",
          "name": "stdout",
          "text": [
            " 10000000  30000000 170000000 long_text.txt\n",
            "\n",
            "real\t0m1.814s\n",
            "user\t0m1.711s\n",
            "sys\t0m0.041s\n"
          ]
        }
      ]
    },
    {
      "cell_type": "code",
      "source": [
        "!time python wc.py long_text.txt"
      ],
      "metadata": {
        "colab": {
          "base_uri": "https://localhost:8080/"
        },
        "id": "t_OyPb3CQpaz",
        "outputId": "f68f028c-0776-48d9-c2dc-5c03d3189fcb"
      },
      "execution_count": 15,
      "outputs": [
        {
          "output_type": "stream",
          "name": "stdout",
          "text": [
            " 10000000 30000105 170000000 long_text.txt\n",
            "\n",
            "real\t0m0.478s\n",
            "user\t0m0.327s\n",
            "sys\t0m0.264s\n"
          ]
        }
      ]
    },
    {
      "cell_type": "markdown",
      "source": [],
      "metadata": {
        "id": "3q5vTWiB-T6V"
      }
    }
  ]
}