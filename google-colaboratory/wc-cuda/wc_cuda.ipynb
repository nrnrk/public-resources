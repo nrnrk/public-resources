{
  "nbformat": 4,
  "nbformat_minor": 0,
  "metadata": {
    "colab": {
      "provenance": [],
      "gpuType": "T4",
      "authorship_tag": "ABX9TyOg3Y/a16Td3WRRPjhWMKWl",
      "include_colab_link": true
    },
    "kernelspec": {
      "name": "python3",
      "display_name": "Python 3"
    },
    "language_info": {
      "name": "python"
    },
    "accelerator": "GPU"
  },
  "cells": [
    {
      "cell_type": "markdown",
      "metadata": {
        "id": "view-in-github",
        "colab_type": "text"
      },
      "source": [
        "<a href=\"https://colab.research.google.com/github/nrnrk/public-resources/blob/main/google-colaboratory/wc-cuda/wc_cuda.ipynb\" target=\"_parent\"><img src=\"https://colab.research.google.com/assets/colab-badge.svg\" alt=\"Open In Colab\"/></a>"
      ]
    },
    {
      "cell_type": "markdown",
      "source": [
        "## `wc` コマンドの CUDA 実装\n",
        "\n",
        "学習のために `wc` コマンドを CUDA で実装し直します。大きいファイルでは本家より早くなることをごく簡単な計測で確認できました。"
      ],
      "metadata": {
        "id": "xRESXd0o9Hqx"
      }
    },
    {
      "cell_type": "code",
      "source": [
        "# リポジトリのクローン\n",
        "!git clone https://github.com/nrnrk/public-resources.git\n",
        "# 作業ディレクトリをリポジトリに移動\n",
        "%cd public-resources/google-colaboratory/wc-cuda"
      ],
      "metadata": {
        "colab": {
          "base_uri": "https://localhost:8080/"
        },
        "id": "Y2ELfkwQSG2f",
        "outputId": "f8cb4bbb-ca02-41c4-a508-bc30075eff1a"
      },
      "execution_count": 1,
      "outputs": [
        {
          "output_type": "stream",
          "name": "stdout",
          "text": [
            "Cloning into 'public-resources'...\n",
            "remote: Enumerating objects: 18, done.\u001b[K\n",
            "remote: Counting objects: 100% (18/18), done.\u001b[K\n",
            "remote: Compressing objects: 100% (14/14), done.\u001b[K\n",
            "remote: Total 18 (delta 0), reused 6 (delta 0), pack-reused 0 (from 0)\u001b[K\n",
            "Receiving objects: 100% (18/18), 6.42 KiB | 6.42 MiB/s, done.\n",
            "/content/public-resources/google-colaboratory/wc-cuda\n"
          ]
        }
      ]
    },
    {
      "cell_type": "markdown",
      "source": [
        "### 準備\n",
        "\n",
        "* Colaboratory で `編集` > `ノートブックの設定` で CUDA 対応のアクセラレータ(T4など)を選択\n",
        "  * これにより関連のミドルウェアはインストールされます\n",
        "* `PyCUDA` のインストール\n"
      ],
      "metadata": {
        "id": "NSiTFPKO9e5l"
      }
    },
    {
      "cell_type": "code",
      "execution_count": 2,
      "metadata": {
        "colab": {
          "base_uri": "https://localhost:8080/"
        },
        "id": "rtZCy4So82FK",
        "outputId": "2413bc06-b072-4ed0-c8e3-37e1406ce82d"
      },
      "outputs": [
        {
          "output_type": "stream",
          "name": "stdout",
          "text": [
            "Requirement already satisfied: pycuda in /usr/local/lib/python3.11/dist-packages (2025.1)\n",
            "Requirement already satisfied: pytools>=2011.2 in /usr/local/lib/python3.11/dist-packages (from pycuda) (2025.1.1)\n",
            "Requirement already satisfied: platformdirs>=2.2.0 in /usr/local/lib/python3.11/dist-packages (from pycuda) (4.3.6)\n",
            "Requirement already satisfied: mako in /usr/local/lib/python3.11/dist-packages (from pycuda) (1.3.9)\n",
            "Requirement already satisfied: typing-extensions>=4.5 in /usr/local/lib/python3.11/dist-packages (from pytools>=2011.2->pycuda) (4.12.2)\n",
            "Requirement already satisfied: MarkupSafe>=0.9.2 in /usr/local/lib/python3.11/dist-packages (from mako->pycuda) (3.0.2)\n"
          ]
        }
      ],
      "source": [
        "# 2分くらいかかります\n",
        "!pip install pycuda"
      ]
    },
    {
      "cell_type": "markdown",
      "source": [
        "### .cubin の生成\n",
        "\n",
        "`wc.cu` に CUDA カーネルを定義しています。実行速度を上げるために `.cubin` を事前に生成しておきます。"
      ],
      "metadata": {
        "id": "6O-QGvWI-m5j"
      }
    },
    {
      "cell_type": "code",
      "source": [
        "# T4 は sm_75 のアーキテクチャ\n",
        "!nvcc -cubin -arch=sm_75 wc.cu -o wc.cubin"
      ],
      "metadata": {
        "id": "OGDoGZ5_NB2G"
      },
      "execution_count": 3,
      "outputs": []
    },
    {
      "cell_type": "markdown",
      "source": [
        "### wc.py を実行\n",
        "\n",
        "`wc.cubin` をロードして、 `wc` コマンド相当のものを実行するコード `wc.py` を実行します。"
      ],
      "metadata": {
        "id": "JOB8mXVBPpR1"
      }
    },
    {
      "cell_type": "code",
      "source": [
        "!python wc.py wc.py"
      ],
      "metadata": {
        "colab": {
          "base_uri": "https://localhost:8080/"
        },
        "id": "d1WFYmlDQRoQ",
        "outputId": "c312ec89-89c5-4319-f7e3-bdaa82af8c2f"
      },
      "execution_count": 4,
      "outputs": [
        {
          "output_type": "stream",
          "name": "stdout",
          "text": [
            " 79 208 2410 wc.py\n"
          ]
        }
      ]
    },
    {
      "cell_type": "markdown",
      "source": [
        "### 時間の計測\n",
        "\n",
        "`time` コマンドで簡易的に速度を計測する。テスト用の短いテキストと、長いテキストも事前に生成して、 `wc` コマンドと比較します。"
      ],
      "metadata": {
        "id": "rwTxEbnsQVN0"
      }
    },
    {
      "cell_type": "code",
      "source": [
        "# 短めのデータを生成\n",
        "with open('short_text.txt', 'w') as f:\n",
        "  for _ in range(100):\n",
        "    f.write('short text!\\n' * 5)"
      ],
      "metadata": {
        "id": "GqK6esswQBtu"
      },
      "execution_count": 5,
      "outputs": []
    },
    {
      "cell_type": "code",
      "source": [
        "# とても長いデータを生成\n",
        "with open('long_text.txt', 'w') as f:\n",
        "  for _ in range(100000):\n",
        "    f.write('super long text!\\n' * 100)"
      ],
      "metadata": {
        "id": "H1NvmgTjPoz2"
      },
      "execution_count": 6,
      "outputs": []
    },
    {
      "cell_type": "code",
      "source": [
        "!time wc short_text.txt"
      ],
      "metadata": {
        "colab": {
          "base_uri": "https://localhost:8080/"
        },
        "id": "xCWgB-NXQP7C",
        "outputId": "55bb29f6-2d5a-4b69-a0c9-cd46e37cde3f"
      },
      "execution_count": 7,
      "outputs": [
        {
          "output_type": "stream",
          "name": "stdout",
          "text": [
            " 500 1000 6000 short_text.txt\n",
            "\n",
            "real\t0m0.002s\n",
            "user\t0m0.000s\n",
            "sys\t0m0.002s\n"
          ]
        }
      ]
    },
    {
      "cell_type": "code",
      "source": [
        "!time python wc.py short_text.txt"
      ],
      "metadata": {
        "colab": {
          "base_uri": "https://localhost:8080/"
        },
        "id": "0_xwtae3QPIs",
        "outputId": "247ea2ad-4b85-40e7-f074-c55c4caeba17"
      },
      "execution_count": 8,
      "outputs": [
        {
          "output_type": "stream",
          "name": "stdout",
          "text": [
            " 500 1000 6000 short_text.txt\n",
            "\n",
            "real\t0m0.507s\n",
            "user\t0m0.205s\n",
            "sys\t0m0.242s\n"
          ]
        }
      ]
    },
    {
      "cell_type": "code",
      "source": [
        "!time wc long_text.txt"
      ],
      "metadata": {
        "colab": {
          "base_uri": "https://localhost:8080/"
        },
        "id": "FVrust0MQm-5",
        "outputId": "8b002c16-86d2-4c7e-a2b2-4d7f31341203"
      },
      "execution_count": 9,
      "outputs": [
        {
          "output_type": "stream",
          "name": "stdout",
          "text": [
            " 10000000  30000000 170000000 long_text.txt\n",
            "\n",
            "real\t0m1.877s\n",
            "user\t0m1.555s\n",
            "sys\t0m0.058s\n"
          ]
        }
      ]
    },
    {
      "cell_type": "code",
      "source": [
        "!time python wc.py long_text.txt"
      ],
      "metadata": {
        "colab": {
          "base_uri": "https://localhost:8080/"
        },
        "id": "t_OyPb3CQpaz",
        "outputId": "0e06558a-6b1c-4c3b-d85c-97a6a323a011"
      },
      "execution_count": 10,
      "outputs": [
        {
          "output_type": "stream",
          "name": "stdout",
          "text": [
            " 10000000 30000105 170000000 long_text.txt\n",
            "\n",
            "real\t0m0.530s\n",
            "user\t0m0.292s\n",
            "sys\t0m0.318s\n"
          ]
        }
      ]
    },
    {
      "cell_type": "markdown",
      "source": [],
      "metadata": {
        "id": "3q5vTWiB-T6V"
      }
    }
  ]
}